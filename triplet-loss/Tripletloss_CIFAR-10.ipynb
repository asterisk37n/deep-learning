{
 "cells": [
  {
   "cell_type": "markdown",
   "metadata": {},
   "source": [
    "# Facenet study on CIFAR-10 dataset"
   ]
  },
  {
   "cell_type": "code",
   "execution_count": 24,
   "metadata": {},
   "outputs": [],
   "source": [
    "import keras\n",
    "from keras.layers import (Input, Dense, Flatten, Conv2D, LeakyReLU, Conv2DTranspose,\n",
    "                          BatchNormalization, GlobalAveragePooling2D, Lambda)\n",
    "from keras.models import Model\n",
    "from keras import backend as K\n",
    "import numpy as np"
   ]
  },
  {
   "cell_type": "code",
   "execution_count": 25,
   "metadata": {
    "scrolled": true
   },
   "outputs": [
    {
     "data": {
      "text/plain": [
       "'channels_last'"
      ]
     },
     "execution_count": 25,
     "metadata": {},
     "output_type": "execute_result"
    }
   ],
   "source": [
    "K.image_data_format()"
   ]
  },
  {
   "cell_type": "code",
   "execution_count": 26,
   "metadata": {},
   "outputs": [],
   "source": [
    "# input MNIST image dimensions as K.image_data_format() = 'channels_last'\n",
    "img_rows, img_cols, channels = 32, 32, 3 # as CIFAR-10\n",
    "input_shape = (img_rows, img_cols, channels)"
   ]
  },
  {
   "cell_type": "code",
   "execution_count": 27,
   "metadata": {},
   "outputs": [],
   "source": [
    "import tensorflow as tf\n",
    "\n",
    "# Copied from https://github.com/Skuldur/facenet-face-recognition/blob/9b9538252ad5dfe1e498720c4b1731612ca35e9c/facenet.py#L21\n",
    "def triplet_loss(y_pred, alpha = 0.2):\n",
    "    \"\"\"\n",
    "    Implementation of the triplet loss as defined by formula (3)\n",
    "    \n",
    "    Arguments:\n",
    "    y_true -- Not used.\n",
    "    y_pred -- python list containing three objects:\n",
    "            anchor -- the encodings for the anchor images, of shape (None, 32)\n",
    "            positive -- the encodings for the positive images, of shape (None, 32)\n",
    "            negative -- the encodings for the negative images, of shape (None, 32)\n",
    "    \n",
    "    Returns:\n",
    "    loss -- real number, value of the loss\n",
    "    \"\"\"\n",
    "\n",
    "    anchor, positive, negative = y_pred\n",
    "    pos_dist = tf.reduce_sum(tf.square(tf.subtract(anchor, positive)), axis=-1)\n",
    "    neg_dist = tf.reduce_sum(tf.square(tf.subtract(anchor, negative)), axis=-1)\n",
    "\n",
    "    basic_loss = tf.add(tf.subtract(pos_dist, neg_dist), alpha) # d(a, p) - d(a, n)\n",
    "    loss = tf.reduce_sum(tf.maximum(basic_loss, 0.0)) # sum(max(basic_loss, 0))\n",
    "\n",
    "    print(loss)\n",
    "    return loss"
   ]
  },
  {
   "cell_type": "code",
   "execution_count": 46,
   "metadata": {},
   "outputs": [],
   "source": [
    "# FaceNet paper used \"Local response normalization\",\n",
    "# but Keras doesn't support as it is not effective and not used often\n",
    "def get_shared_model(input_shape):\n",
    "    inception_v3 = keras.applications.inception_v3.InceptionV3(\n",
    "        include_top=False,\n",
    "        weights='imagenet'\n",
    "    ) # width and height must be no smaller than 75 px. input channels must be 3.\n",
    "    \n",
    "    \n",
    "    # Upsample input as its size is too small for inception v3\n",
    "    inputs = Input(shape=input_shape)\n",
    "    hid = BatchNormalization(epsilon=0.00001)(inputs)\n",
    "    hid = Conv2DTranspose(filters=3, kernel_size=[2,2], strides=[2,2], padding='valid')(hid)\n",
    "    hid = LeakyReLU(alpha=0.02)(hid)\n",
    "    hid = BatchNormalization(epsilon=0.00001)(hid)\n",
    "    hid = Conv2DTranspose(filters=3, kernel_size=[2,2], strides=[2,2], padding='valid')(hid)\n",
    "    hid = LeakyReLU(alpha=0.02)(hid)\n",
    "    hid = BatchNormalization(epsilon=0.00001)(hid)\n",
    "\n",
    "    hid = inception_v3(hid)\n",
    "\n",
    "    hid = GlobalAveragePooling2D()(hid)\n",
    "    hid = Dense(128)(hid)\n",
    "    L2_normalized = Lambda(lambda x: K.l2_normalize(x,axis=1))(hid)\n",
    "    \n",
    "    shared_model = Model(inputs=inputs, outputs=L2_normalized)\n",
    "\n",
    "    return shared_model"
   ]
  },
  {
   "cell_type": "code",
   "execution_count": 47,
   "metadata": {},
   "outputs": [],
   "source": [
    "# anc, pos, neg are supposed to be Input()\n",
    "def get_triplet_model(input_shape, triplet_loss):\n",
    "    shared_model = get_shared_model(input_shape)\n",
    "    anc_input = Input(input_shape)\n",
    "    pos_input = Input(input_shape)\n",
    "    neg_input = Input(input_shape)\n",
    "\n",
    "    anc_output = shared_model(anc_input)\n",
    "    pos_output = shared_model(pos_input)\n",
    "    neg_output = shared_model(neg_input)\n",
    "\n",
    "    outputs = anc_output, pos_output, neg_output\n",
    "    \n",
    "    triplet_model = Model(\n",
    "        inputs = [anc_input,  pos_input,  neg_input],\n",
    "        outputs= [anc_output, pos_output, neg_output]\n",
    "    )\n",
    "    triplet_model.add_loss(K.mean(triplet_loss(outputs)))\n",
    "\n",
    "    return shared_model, triplet_model"
   ]
  },
  {
   "cell_type": "code",
   "execution_count": 48,
   "metadata": {},
   "outputs": [
    {
     "name": "stdout",
     "output_type": "stream",
     "text": [
      "Tensor(\"Sum_5:0\", shape=(), dtype=float32)\n",
      "_________________________________________________________________\n",
      "Layer (type)                 Output Shape              Param #   \n",
      "=================================================================\n",
      "input_25 (InputLayer)        (None, 32, 32, 3)         0         \n",
      "_________________________________________________________________\n",
      "batch_normalization_1055 (Ba (None, 32, 32, 3)         12        \n",
      "_________________________________________________________________\n",
      "conv2d_transpose_12 (Conv2DT (None, 64, 64, 3)         39        \n",
      "_________________________________________________________________\n",
      "leaky_re_lu_11 (LeakyReLU)   (None, 64, 64, 3)         0         \n",
      "_________________________________________________________________\n",
      "batch_normalization_1056 (Ba (None, 64, 64, 3)         12        \n",
      "_________________________________________________________________\n",
      "conv2d_transpose_13 (Conv2DT (None, 128, 128, 3)       39        \n",
      "_________________________________________________________________\n",
      "leaky_re_lu_12 (LeakyReLU)   (None, 128, 128, 3)       0         \n",
      "_________________________________________________________________\n",
      "batch_normalization_1057 (Ba (None, 128, 128, 3)       12        \n",
      "_________________________________________________________________\n",
      "inception_v3 (Model)         multiple                  21802784  \n",
      "_________________________________________________________________\n",
      "global_average_pooling2d_2 ( (None, 2048)              0         \n",
      "_________________________________________________________________\n",
      "dense_2 (Dense)              (None, 128)               262272    \n",
      "_________________________________________________________________\n",
      "lambda_2 (Lambda)            (None, 128)               0         \n",
      "=================================================================\n",
      "Total params: 22,065,170\n",
      "Trainable params: 22,030,720\n",
      "Non-trainable params: 34,450\n",
      "_________________________________________________________________\n"
     ]
    }
   ],
   "source": [
    "shared_model, triplet_model = get_triplet_model(input_shape, triplet_loss)\n",
    "shared_model.summary()"
   ]
  },
  {
   "cell_type": "code",
   "execution_count": null,
   "metadata": {},
   "outputs": [],
   "source": [
    "triplet_model.summary()"
   ]
  },
  {
   "cell_type": "code",
   "execution_count": null,
   "metadata": {},
   "outputs": [],
   "source": [
    "# No accuracy is needed as an output doesn't have any correct vector\n",
    "# Triplet loss needed to be added on building a model as outputs shares objective function,\n",
    "# Keras doesn't support to handle it at model.compile\n",
    "triplet_model.compile(optimizer='adam', loss=None)"
   ]
  },
  {
   "cell_type": "code",
   "execution_count": 10,
   "metadata": {},
   "outputs": [],
   "source": [
    "# --------\n",
    "# batch generator\n",
    "# --------\n",
    "\n",
    "\n",
    "# this kaggle page helped me\n",
    "# https://www.kaggle.com/guichristmann/training-a-triplet-loss-model-on-mnist\n",
    "def reorganize_data(X, y):\n",
    "    assert X.shape[0] == y.shape[0]\n",
    "    \n",
    "    data_dict = {i: [] for i in range(10)}\n",
    "    for i in range(X.shape[0]):\n",
    "        data_dict[y[i][0]].append(X[i])\n",
    "        \n",
    "    return data_dict\n",
    "\n",
    "import random\n",
    "\n",
    "def generate_triplet_batch(data_dict, batch_size=32):\n",
    "    \"\"\"\n",
    "    Pick ten sets of (anchor, positive, negative) up randomly from each class\n",
    "    model.fit_generator expects generator to return (inputs, targets). On facenet,\n",
    "    inputs is (anc, pos, neg), and targets is None.\n",
    "    \"\"\"\n",
    "    anc_batch_temp = []\n",
    "    pos_batch_temp = []\n",
    "    neg_batch_temp = []\n",
    "    \n",
    "    classes = [i for i in range(10)]\n",
    "    \n",
    "    dummy = np.zeros((batch_size, 32))\n",
    "    \n",
    "    while True:\n",
    "        anc_y = random.choice(classes)\n",
    "        list_except_anc = [i for i in range(10) if i != anc_y]\n",
    "        neg_y = random.choice(list_except_anc)\n",
    "        \n",
    "        anc, pos = random.sample(data_dict[anc_y], 2)\n",
    "        neg = random.choice(data_dict[neg_y])\n",
    "        \n",
    "        anc_batch_temp.append(anc)\n",
    "        pos_batch_temp.append(pos)\n",
    "        neg_batch_temp.append(neg)\n",
    "                \n",
    "        if len(anc_batch_temp) == batch_size:\n",
    "            anc_batch, anc_batch_temp = anc_batch_temp, []\n",
    "            pos_batch, pos_batch_temp = pos_batch_temp, []\n",
    "            neg_batch, neg_batch_temp = neg_batch_temp, []  \n",
    "            \n",
    "            anc_batch = np.array(anc_batch)\n",
    "            pos_batch = np.array(pos_batch)\n",
    "            neg_batch = np.array(neg_batch)\n",
    "        \n",
    "            yield [anc_batch, pos_batch, neg_batch], None"
   ]
  },
  {
   "cell_type": "code",
   "execution_count": 11,
   "metadata": {},
   "outputs": [
    {
     "name": "stdout",
     "output_type": "stream",
     "text": [
      "X_train shape:  (50000, 32, 32, 3)\n",
      "y_train shape:  (50000, 1)\n"
     ]
    }
   ],
   "source": [
    "(X_train, y_train), (X_test, y_test) = keras.datasets.cifar10.load_data() # (#channel, 28, 28)\n",
    "print('X_train shape: ', X_train.shape)\n",
    "print('y_train shape: ', y_train.shape)\n",
    "\n",
    "# Prepare reorganized dict data\n",
    "train_data_dict = reorganize_data(X_train, y_train)\n",
    "test_data_dict = reorganize_data(X_test, y_test)"
   ]
  },
  {
   "cell_type": "code",
   "execution_count": 12,
   "metadata": {},
   "outputs": [],
   "source": [
    "# --------\n",
    "# Functions and class to plot training process\n",
    "# --------\n",
    "\n",
    "from sklearn.manifold import TSNE\n",
    "\n",
    "\n",
    "def reduce_dimention(L2_normed):\n",
    "    return TSNE(n_components=2, random_state=0).fit_transform(L2_normed)\n",
    "\n",
    "\n",
    "def scale_value(x, in_min, in_max, out_min, out_max):\n",
    "    \"\"\"\n",
    "    canvas has its own size (canvas_x_min, canvas_y_min), (canvas_y_min, canvas_y_max)\n",
    "    reduced corrdinates also has its own min and max. This function scales coordinates to fit canvas.\n",
    "    \"\"\"\n",
    "    return out_min + (x - in_min) * (out_max - out_min) / (in_max - in_min)\n",
    "\n",
    "\n",
    "def plot_images(images, xy, canvas_shape=(512,512), fill=0):    \n",
    "    h, w = images.shape[1:3]\n",
    "    if images.ndim == 4:\n",
    "        canvas_shape = (canvas_shape[0], canvas_shape[1], images.shape[3])\n",
    "    \n",
    "    min_xy = np.amin(xy, 0)\n",
    "    max_xy = np.amax(xy, 0)\n",
    "    \n",
    "    min_canvas_drawable = np.array((0, 0))\n",
    "    max_canvas_drawable = np.array((canvas_shape[0] - h, canvas_shape[1] - w))\n",
    "    # -h, -w so that max(reduced_x, reduced_ y) shodn't exceed the canvas\n",
    "    \n",
    "    canvas = np.full(canvas_shape, 255)\n",
    "    for image, pos in zip(images, xy):\n",
    "        x_off, y_off = scale_value(pos, min_xy, max_xy, min_canvas_drawable, max_canvas_drawable).astype(int)\n",
    "#         sub_canvas = canvas[y_off:y_off+h, x_off:x_off+w]\n",
    "#         sub_image = image[:h, :w]\n",
    "#         canvas[y_off:y_off+h, x_off:x_off+w] = blend(sub_canvas, sub_image)\n",
    "# Above code is good for MNIST as they get overlayed, but CIFAR-10 is all painted.\n",
    "        canvas[y_off:y_off+h, x_off:x_off+w] = image[:h, :w]\n",
    "\n",
    "    return canvas\n",
    "\n",
    "\n",
    "from io import BytesIO\n",
    "import numpy as np\n",
    "import PIL.Image\n",
    "import IPython.display\n",
    "import shutil\n",
    "import os\n",
    "\n",
    "\n",
    "def show_array(a, fmt='png', filename=None, retina=False, zoom=None):\n",
    "    if len(a.shape) == 1:\n",
    "        n = len(a)\n",
    "        side = int(math.sqrt(n))\n",
    "        if (side * side) == n:\n",
    "            a = a.reshape(side, side)\n",
    "        else:\n",
    "            raise ValueError('input is one-dimensional', a.shape)\n",
    "    a = np.uint8(np.clip(a, 0, 255))\n",
    "    image_data = BytesIO()\n",
    "    PIL.Image.fromarray(a).save(image_data, fmt)\n",
    "    if filename is None:\n",
    "        height, width = a.shape[:2]\n",
    "        if zoom is not None:\n",
    "            width *= zoom\n",
    "            height *= zoom\n",
    "        IPython.display.display(\n",
    "            IPython.display.Image(\n",
    "                data=image_data.getvalue(),\n",
    "                width=width,\n",
    "                height=height,\n",
    "                retina=retina\n",
    "             )\n",
    "        )\n",
    "    else:\n",
    "        with open(filename, 'wb') as f:\n",
    "            image_data.seek(0)\n",
    "            shutil.copyfileobj(image_data, f)\n",
    "\n",
    "\n",
    "class Plot(keras.callbacks.Callback):\n",
    "    \n",
    "    def __init__(self, embedding_model, model_input, plot_size=None, is_saved=True):\n",
    "        self.embedding_model = embedding_model\n",
    "        self.model_input = model_input[:plot_size] if plot_size else model_input\n",
    "        self.plot_size = plot_size\n",
    "        self.is_saved = is_saved\n",
    "        if not os.path.exists('img'):\n",
    "            os.mkdir('img')\n",
    "    \n",
    "    def on_epoch_end(self, epoch, logs={}):\n",
    "        embedded_L2 = self.embedding_model.predict(self.model_input)\n",
    "        reduced = reduce_dimention(embedded_L2)\n",
    "        canvas_array = plot_images(self.model_input.squeeze(), reduced)\n",
    "        if self.is_saved:       \n",
    "            show_array(a=canvas_array, filename='img/{:0=3}-{:.3f}.png'.format(epoch + 1, logs['val_loss']))\n",
    "        else:\n",
    "            IPython.display.clear_output(wait=True)\n",
    "            show_array(a=canvas_array)\n",
    "            "
   ]
  },
  {
   "cell_type": "code",
   "execution_count": 13,
   "metadata": {},
   "outputs": [
    {
     "data": {
      "text/plain": [
       "['loss']"
      ]
     },
     "execution_count": 13,
     "metadata": {},
     "output_type": "execute_result"
    }
   ],
   "source": [
    "triplet_model.metrics_names"
   ]
  },
  {
   "cell_type": "code",
   "execution_count": 14,
   "metadata": {},
   "outputs": [],
   "source": [
    "EPOCHS = 200\n",
    "BATCH_SIZE = 32\n",
    "STEPS_PER_EPOCH = int(X_train.shape[0] // BATCH_SIZE)\n",
    "VALIDATION_STEPS = 100\n",
    "NUM_TO_PLOT = 1024"
   ]
  },
  {
   "cell_type": "code",
   "execution_count": 15,
   "metadata": {},
   "outputs": [
    {
     "name": "stdout",
     "output_type": "stream",
     "text": [
      "2018-10-20 18:46:45.571622\n"
     ]
    }
   ],
   "source": [
    "import datetime\n",
    "print(datetime.datetime.now())"
   ]
  },
  {
   "cell_type": "code",
   "execution_count": 16,
   "metadata": {
    "scrolled": true
   },
   "outputs": [
    {
     "name": "stdout",
     "output_type": "stream",
     "text": [
      "1562/1562 [==============================] - 527s 337ms/step - loss: 3.6310 - val_loss: 3.8110\n",
      "Epoch 52/200\n",
      "   2/1562 [..............................] - ETA: 9:03 - loss: 3.6218"
     ]
    },
    {
     "ename": "KeyboardInterrupt",
     "evalue": "",
     "output_type": "error",
     "traceback": [
      "\u001b[0;31m---------------------------------------------------------------------------\u001b[0m",
      "\u001b[0;31mKeyboardInterrupt\u001b[0m                         Traceback (most recent call last)",
      "\u001b[0;32m<ipython-input-16-0f1a029f74d5>\u001b[0m in \u001b[0;36m<module>\u001b[0;34m()\u001b[0m\n\u001b[1;32m      8\u001b[0m     \u001b[0mvalidation_data\u001b[0m\u001b[0;34m=\u001b[0m\u001b[0mgenerate_triplet_batch\u001b[0m\u001b[0;34m(\u001b[0m\u001b[0mtest_data_dict\u001b[0m\u001b[0;34m,\u001b[0m \u001b[0mBATCH_SIZE\u001b[0m\u001b[0;34m)\u001b[0m\u001b[0;34m,\u001b[0m\u001b[0;34m\u001b[0m\u001b[0m\n\u001b[1;32m      9\u001b[0m     \u001b[0mvalidation_steps\u001b[0m\u001b[0;34m=\u001b[0m\u001b[0mVALIDATION_STEPS\u001b[0m\u001b[0;34m,\u001b[0m\u001b[0;34m\u001b[0m\u001b[0m\n\u001b[0;32m---> 10\u001b[0;31m     \u001b[0mcallbacks\u001b[0m\u001b[0;34m=\u001b[0m\u001b[0;34m[\u001b[0m\u001b[0mcallback_plt\u001b[0m\u001b[0;34m]\u001b[0m\u001b[0;34m\u001b[0m\u001b[0m\n\u001b[0m\u001b[1;32m     11\u001b[0m )\n",
      "\u001b[0;32m~/.pyenv/versions/3.6.1/envs/ssd/lib/python3.6/site-packages/keras/legacy/interfaces.py\u001b[0m in \u001b[0;36mwrapper\u001b[0;34m(*args, **kwargs)\u001b[0m\n\u001b[1;32m     85\u001b[0m                 warnings.warn('Update your `' + object_name +\n\u001b[1;32m     86\u001b[0m                               '` call to the Keras 2 API: ' + signature, stacklevel=2)\n\u001b[0;32m---> 87\u001b[0;31m             \u001b[0;32mreturn\u001b[0m \u001b[0mfunc\u001b[0m\u001b[0;34m(\u001b[0m\u001b[0;34m*\u001b[0m\u001b[0margs\u001b[0m\u001b[0;34m,\u001b[0m \u001b[0;34m**\u001b[0m\u001b[0mkwargs\u001b[0m\u001b[0;34m)\u001b[0m\u001b[0;34m\u001b[0m\u001b[0m\n\u001b[0m\u001b[1;32m     88\u001b[0m         \u001b[0mwrapper\u001b[0m\u001b[0;34m.\u001b[0m\u001b[0m_original_function\u001b[0m \u001b[0;34m=\u001b[0m \u001b[0mfunc\u001b[0m\u001b[0;34m\u001b[0m\u001b[0m\n\u001b[1;32m     89\u001b[0m         \u001b[0;32mreturn\u001b[0m \u001b[0mwrapper\u001b[0m\u001b[0;34m\u001b[0m\u001b[0m\n",
      "\u001b[0;32m~/.pyenv/versions/3.6.1/envs/ssd/lib/python3.6/site-packages/keras/engine/training.py\u001b[0m in \u001b[0;36mfit_generator\u001b[0;34m(self, generator, steps_per_epoch, epochs, verbose, callbacks, validation_data, validation_steps, class_weight, max_queue_size, workers, use_multiprocessing, shuffle, initial_epoch)\u001b[0m\n\u001b[1;32m   2145\u001b[0m                     outs = self.train_on_batch(x, y,\n\u001b[1;32m   2146\u001b[0m                                                \u001b[0msample_weight\u001b[0m\u001b[0;34m=\u001b[0m\u001b[0msample_weight\u001b[0m\u001b[0;34m,\u001b[0m\u001b[0;34m\u001b[0m\u001b[0m\n\u001b[0;32m-> 2147\u001b[0;31m                                                class_weight=class_weight)\n\u001b[0m\u001b[1;32m   2148\u001b[0m \u001b[0;34m\u001b[0m\u001b[0m\n\u001b[1;32m   2149\u001b[0m                     \u001b[0;32mif\u001b[0m \u001b[0;32mnot\u001b[0m \u001b[0misinstance\u001b[0m\u001b[0;34m(\u001b[0m\u001b[0mouts\u001b[0m\u001b[0;34m,\u001b[0m \u001b[0mlist\u001b[0m\u001b[0;34m)\u001b[0m\u001b[0;34m:\u001b[0m\u001b[0;34m\u001b[0m\u001b[0m\n",
      "\u001b[0;32m~/.pyenv/versions/3.6.1/envs/ssd/lib/python3.6/site-packages/keras/engine/training.py\u001b[0m in \u001b[0;36mtrain_on_batch\u001b[0;34m(self, x, y, sample_weight, class_weight)\u001b[0m\n\u001b[1;32m   1837\u001b[0m             \u001b[0mins\u001b[0m \u001b[0;34m=\u001b[0m \u001b[0mx\u001b[0m \u001b[0;34m+\u001b[0m \u001b[0my\u001b[0m \u001b[0;34m+\u001b[0m \u001b[0msample_weights\u001b[0m\u001b[0;34m\u001b[0m\u001b[0m\n\u001b[1;32m   1838\u001b[0m         \u001b[0mself\u001b[0m\u001b[0;34m.\u001b[0m\u001b[0m_make_train_function\u001b[0m\u001b[0;34m(\u001b[0m\u001b[0;34m)\u001b[0m\u001b[0;34m\u001b[0m\u001b[0m\n\u001b[0;32m-> 1839\u001b[0;31m         \u001b[0moutputs\u001b[0m \u001b[0;34m=\u001b[0m \u001b[0mself\u001b[0m\u001b[0;34m.\u001b[0m\u001b[0mtrain_function\u001b[0m\u001b[0;34m(\u001b[0m\u001b[0mins\u001b[0m\u001b[0;34m)\u001b[0m\u001b[0;34m\u001b[0m\u001b[0m\n\u001b[0m\u001b[1;32m   1840\u001b[0m         \u001b[0;32mif\u001b[0m \u001b[0mlen\u001b[0m\u001b[0;34m(\u001b[0m\u001b[0moutputs\u001b[0m\u001b[0;34m)\u001b[0m \u001b[0;34m==\u001b[0m \u001b[0;36m1\u001b[0m\u001b[0;34m:\u001b[0m\u001b[0;34m\u001b[0m\u001b[0m\n\u001b[1;32m   1841\u001b[0m             \u001b[0;32mreturn\u001b[0m \u001b[0moutputs\u001b[0m\u001b[0;34m[\u001b[0m\u001b[0;36m0\u001b[0m\u001b[0;34m]\u001b[0m\u001b[0;34m\u001b[0m\u001b[0m\n",
      "\u001b[0;32m~/.pyenv/versions/3.6.1/envs/ssd/lib/python3.6/site-packages/keras/backend/tensorflow_backend.py\u001b[0m in \u001b[0;36m__call__\u001b[0;34m(self, inputs)\u001b[0m\n\u001b[1;32m   2355\u001b[0m         \u001b[0msession\u001b[0m \u001b[0;34m=\u001b[0m \u001b[0mget_session\u001b[0m\u001b[0;34m(\u001b[0m\u001b[0;34m)\u001b[0m\u001b[0;34m\u001b[0m\u001b[0m\n\u001b[1;32m   2356\u001b[0m         updated = session.run(fetches=fetches, feed_dict=feed_dict,\n\u001b[0;32m-> 2357\u001b[0;31m                               **self.session_kwargs)\n\u001b[0m\u001b[1;32m   2358\u001b[0m         \u001b[0;32mreturn\u001b[0m \u001b[0mupdated\u001b[0m\u001b[0;34m[\u001b[0m\u001b[0;34m:\u001b[0m\u001b[0mlen\u001b[0m\u001b[0;34m(\u001b[0m\u001b[0mself\u001b[0m\u001b[0;34m.\u001b[0m\u001b[0moutputs\u001b[0m\u001b[0;34m)\u001b[0m\u001b[0;34m]\u001b[0m\u001b[0;34m\u001b[0m\u001b[0m\n\u001b[1;32m   2359\u001b[0m \u001b[0;34m\u001b[0m\u001b[0m\n",
      "\u001b[0;32m~/.pyenv/versions/3.6.1/envs/ssd/lib/python3.6/site-packages/tensorflow/python/client/session.py\u001b[0m in \u001b[0;36mrun\u001b[0;34m(self, fetches, feed_dict, options, run_metadata)\u001b[0m\n\u001b[1;32m    887\u001b[0m     \u001b[0;32mtry\u001b[0m\u001b[0;34m:\u001b[0m\u001b[0;34m\u001b[0m\u001b[0m\n\u001b[1;32m    888\u001b[0m       result = self._run(None, fetches, feed_dict, options_ptr,\n\u001b[0;32m--> 889\u001b[0;31m                          run_metadata_ptr)\n\u001b[0m\u001b[1;32m    890\u001b[0m       \u001b[0;32mif\u001b[0m \u001b[0mrun_metadata\u001b[0m\u001b[0;34m:\u001b[0m\u001b[0;34m\u001b[0m\u001b[0m\n\u001b[1;32m    891\u001b[0m         \u001b[0mproto_data\u001b[0m \u001b[0;34m=\u001b[0m \u001b[0mtf_session\u001b[0m\u001b[0;34m.\u001b[0m\u001b[0mTF_GetBuffer\u001b[0m\u001b[0;34m(\u001b[0m\u001b[0mrun_metadata_ptr\u001b[0m\u001b[0;34m)\u001b[0m\u001b[0;34m\u001b[0m\u001b[0m\n",
      "\u001b[0;32m~/.pyenv/versions/3.6.1/envs/ssd/lib/python3.6/site-packages/tensorflow/python/client/session.py\u001b[0m in \u001b[0;36m_run\u001b[0;34m(self, handle, fetches, feed_dict, options, run_metadata)\u001b[0m\n\u001b[1;32m   1118\u001b[0m     \u001b[0;32mif\u001b[0m \u001b[0mfinal_fetches\u001b[0m \u001b[0;32mor\u001b[0m \u001b[0mfinal_targets\u001b[0m \u001b[0;32mor\u001b[0m \u001b[0;34m(\u001b[0m\u001b[0mhandle\u001b[0m \u001b[0;32mand\u001b[0m \u001b[0mfeed_dict_tensor\u001b[0m\u001b[0;34m)\u001b[0m\u001b[0;34m:\u001b[0m\u001b[0;34m\u001b[0m\u001b[0m\n\u001b[1;32m   1119\u001b[0m       results = self._do_run(handle, final_targets, final_fetches,\n\u001b[0;32m-> 1120\u001b[0;31m                              feed_dict_tensor, options, run_metadata)\n\u001b[0m\u001b[1;32m   1121\u001b[0m     \u001b[0;32melse\u001b[0m\u001b[0;34m:\u001b[0m\u001b[0;34m\u001b[0m\u001b[0m\n\u001b[1;32m   1122\u001b[0m       \u001b[0mresults\u001b[0m \u001b[0;34m=\u001b[0m \u001b[0;34m[\u001b[0m\u001b[0;34m]\u001b[0m\u001b[0;34m\u001b[0m\u001b[0m\n",
      "\u001b[0;32m~/.pyenv/versions/3.6.1/envs/ssd/lib/python3.6/site-packages/tensorflow/python/client/session.py\u001b[0m in \u001b[0;36m_do_run\u001b[0;34m(self, handle, target_list, fetch_list, feed_dict, options, run_metadata)\u001b[0m\n\u001b[1;32m   1315\u001b[0m     \u001b[0;32mif\u001b[0m \u001b[0mhandle\u001b[0m \u001b[0;32mis\u001b[0m \u001b[0;32mNone\u001b[0m\u001b[0;34m:\u001b[0m\u001b[0;34m\u001b[0m\u001b[0m\n\u001b[1;32m   1316\u001b[0m       return self._do_call(_run_fn, self._session, feeds, fetches, targets,\n\u001b[0;32m-> 1317\u001b[0;31m                            options, run_metadata)\n\u001b[0m\u001b[1;32m   1318\u001b[0m     \u001b[0;32melse\u001b[0m\u001b[0;34m:\u001b[0m\u001b[0;34m\u001b[0m\u001b[0m\n\u001b[1;32m   1319\u001b[0m       \u001b[0;32mreturn\u001b[0m \u001b[0mself\u001b[0m\u001b[0;34m.\u001b[0m\u001b[0m_do_call\u001b[0m\u001b[0;34m(\u001b[0m\u001b[0m_prun_fn\u001b[0m\u001b[0;34m,\u001b[0m \u001b[0mself\u001b[0m\u001b[0;34m.\u001b[0m\u001b[0m_session\u001b[0m\u001b[0;34m,\u001b[0m \u001b[0mhandle\u001b[0m\u001b[0;34m,\u001b[0m \u001b[0mfeeds\u001b[0m\u001b[0;34m,\u001b[0m \u001b[0mfetches\u001b[0m\u001b[0;34m)\u001b[0m\u001b[0;34m\u001b[0m\u001b[0m\n",
      "\u001b[0;32m~/.pyenv/versions/3.6.1/envs/ssd/lib/python3.6/site-packages/tensorflow/python/client/session.py\u001b[0m in \u001b[0;36m_do_call\u001b[0;34m(self, fn, *args)\u001b[0m\n\u001b[1;32m   1321\u001b[0m   \u001b[0;32mdef\u001b[0m \u001b[0m_do_call\u001b[0m\u001b[0;34m(\u001b[0m\u001b[0mself\u001b[0m\u001b[0;34m,\u001b[0m \u001b[0mfn\u001b[0m\u001b[0;34m,\u001b[0m \u001b[0;34m*\u001b[0m\u001b[0margs\u001b[0m\u001b[0;34m)\u001b[0m\u001b[0;34m:\u001b[0m\u001b[0;34m\u001b[0m\u001b[0m\n\u001b[1;32m   1322\u001b[0m     \u001b[0;32mtry\u001b[0m\u001b[0;34m:\u001b[0m\u001b[0;34m\u001b[0m\u001b[0m\n\u001b[0;32m-> 1323\u001b[0;31m       \u001b[0;32mreturn\u001b[0m \u001b[0mfn\u001b[0m\u001b[0;34m(\u001b[0m\u001b[0;34m*\u001b[0m\u001b[0margs\u001b[0m\u001b[0;34m)\u001b[0m\u001b[0;34m\u001b[0m\u001b[0m\n\u001b[0m\u001b[1;32m   1324\u001b[0m     \u001b[0;32mexcept\u001b[0m \u001b[0merrors\u001b[0m\u001b[0;34m.\u001b[0m\u001b[0mOpError\u001b[0m \u001b[0;32mas\u001b[0m \u001b[0me\u001b[0m\u001b[0;34m:\u001b[0m\u001b[0;34m\u001b[0m\u001b[0m\n\u001b[1;32m   1325\u001b[0m       \u001b[0mmessage\u001b[0m \u001b[0;34m=\u001b[0m \u001b[0mcompat\u001b[0m\u001b[0;34m.\u001b[0m\u001b[0mas_text\u001b[0m\u001b[0;34m(\u001b[0m\u001b[0me\u001b[0m\u001b[0;34m.\u001b[0m\u001b[0mmessage\u001b[0m\u001b[0;34m)\u001b[0m\u001b[0;34m\u001b[0m\u001b[0m\n",
      "\u001b[0;32m~/.pyenv/versions/3.6.1/envs/ssd/lib/python3.6/site-packages/tensorflow/python/client/session.py\u001b[0m in \u001b[0;36m_run_fn\u001b[0;34m(session, feed_dict, fetch_list, target_list, options, run_metadata)\u001b[0m\n\u001b[1;32m   1300\u001b[0m           return tf_session.TF_Run(session, options,\n\u001b[1;32m   1301\u001b[0m                                    \u001b[0mfeed_dict\u001b[0m\u001b[0;34m,\u001b[0m \u001b[0mfetch_list\u001b[0m\u001b[0;34m,\u001b[0m \u001b[0mtarget_list\u001b[0m\u001b[0;34m,\u001b[0m\u001b[0;34m\u001b[0m\u001b[0m\n\u001b[0;32m-> 1302\u001b[0;31m                                    status, run_metadata)\n\u001b[0m\u001b[1;32m   1303\u001b[0m \u001b[0;34m\u001b[0m\u001b[0m\n\u001b[1;32m   1304\u001b[0m     \u001b[0;32mdef\u001b[0m \u001b[0m_prun_fn\u001b[0m\u001b[0;34m(\u001b[0m\u001b[0msession\u001b[0m\u001b[0;34m,\u001b[0m \u001b[0mhandle\u001b[0m\u001b[0;34m,\u001b[0m \u001b[0mfeed_dict\u001b[0m\u001b[0;34m,\u001b[0m \u001b[0mfetch_list\u001b[0m\u001b[0;34m)\u001b[0m\u001b[0;34m:\u001b[0m\u001b[0;34m\u001b[0m\u001b[0m\n",
      "\u001b[0;31mKeyboardInterrupt\u001b[0m: "
     ]
    }
   ],
   "source": [
    "callback_plt = Plot(shared_model, X_test, NUM_TO_PLOT)\n",
    "callback_tb = keras.callbacks.TensorBoard(log_dir='log', histogram_freq=0,  \n",
    "          write_graph=True, write_images=True)\n",
    "history = keras.callbacks.History()\n",
    "\n",
    "triplet_model.fit_generator(\n",
    "    generator=generate_triplet_batch(train_data_dict, BATCH_SIZE),\n",
    "    steps_per_epoch=STEPS_PER_EPOCH,\n",
    "    epochs=EPOCHS,\n",
    "    verbose=1,\n",
    "    validation_data=generate_triplet_batch(test_data_dict, BATCH_SIZE),\n",
    "    validation_steps=VALIDATION_STEPS,\n",
    "    callbacks=[callback_plt, callback_tb, history]\n",
    ")"
   ]
  },
  {
   "cell_type": "code",
   "execution_count": 19,
   "metadata": {},
   "outputs": [
    {
     "name": "stdout",
     "output_type": "stream",
     "text": [
      "2018-10-21 12:16:43.582568\n"
     ]
    }
   ],
   "source": [
    "print(datetime.datetime.now())"
   ]
  },
  {
   "cell_type": "code",
   "execution_count": 20,
   "metadata": {},
   "outputs": [
    {
     "ename": "NameError",
     "evalue": "name 'history' is not defined",
     "output_type": "error",
     "traceback": [
      "\u001b[0;31m---------------------------------------------------------------------------\u001b[0m",
      "\u001b[0;31mNameError\u001b[0m                                 Traceback (most recent call last)",
      "\u001b[0;32m<ipython-input-20-c5cadc052ef7>\u001b[0m in \u001b[0;36m<module>\u001b[0;34m()\u001b[0m\n\u001b[1;32m      1\u001b[0m \u001b[0;32mimport\u001b[0m \u001b[0mmatplotlib\u001b[0m\u001b[0;34m.\u001b[0m\u001b[0mpyplot\u001b[0m \u001b[0;32mas\u001b[0m \u001b[0mplt\u001b[0m\u001b[0;34m\u001b[0m\u001b[0m\n\u001b[1;32m      2\u001b[0m \u001b[0;34m\u001b[0m\u001b[0m\n\u001b[0;32m----> 3\u001b[0;31m \u001b[0mplt\u001b[0m\u001b[0;34m.\u001b[0m\u001b[0mplot\u001b[0m\u001b[0;34m(\u001b[0m\u001b[0mhistory\u001b[0m\u001b[0;34m.\u001b[0m\u001b[0mhistory\u001b[0m\u001b[0;34m[\u001b[0m\u001b[0;34m'loss'\u001b[0m\u001b[0;34m]\u001b[0m\u001b[0;34m,\u001b[0m \u001b[0mlabel\u001b[0m\u001b[0;34m=\u001b[0m\u001b[0;34m'loss'\u001b[0m\u001b[0;34m)\u001b[0m\u001b[0;34m\u001b[0m\u001b[0m\n\u001b[0m\u001b[1;32m      4\u001b[0m \u001b[0mplt\u001b[0m\u001b[0;34m.\u001b[0m\u001b[0mplot\u001b[0m\u001b[0;34m(\u001b[0m\u001b[0mhistory\u001b[0m\u001b[0;34m.\u001b[0m\u001b[0mhistory\u001b[0m\u001b[0;34m[\u001b[0m\u001b[0;34m'val_loss'\u001b[0m\u001b[0;34m]\u001b[0m\u001b[0;34m,\u001b[0m \u001b[0mlabel\u001b[0m\u001b[0;34m=\u001b[0m\u001b[0;34m'val_loss'\u001b[0m\u001b[0;34m)\u001b[0m\u001b[0;34m\u001b[0m\u001b[0m\n\u001b[1;32m      5\u001b[0m \u001b[0mplt\u001b[0m\u001b[0;34m.\u001b[0m\u001b[0mlegend\u001b[0m\u001b[0;34m(\u001b[0m\u001b[0;34m)\u001b[0m\u001b[0;34m\u001b[0m\u001b[0m\n",
      "\u001b[0;31mNameError\u001b[0m: name 'history' is not defined"
     ]
    }
   ],
   "source": [
    "import matplotlib.pyplot as plt\n",
    "\n",
    "plt.plot(history.history['loss'], label='loss')\n",
    "plt.plot(history.history['val_loss'], label='val_loss')\n",
    "plt.legend()\n",
    "plt.xlabel('Epochs')\n",
    "plt.ylabel('a.u.')\n",
    "plt.title('Loss and val_loss vs epoch')\n",
    "plt.show()"
   ]
  }
 ],
 "metadata": {
  "kernelspec": {
   "display_name": "Python 3",
   "language": "python",
   "name": "python3"
  },
  "language_info": {
   "codemirror_mode": {
    "name": "ipython",
    "version": 3
   },
   "file_extension": ".py",
   "mimetype": "text/x-python",
   "name": "python",
   "nbconvert_exporter": "python",
   "pygments_lexer": "ipython3",
   "version": "3.6.1"
  }
 },
 "nbformat": 4,
 "nbformat_minor": 2
}
