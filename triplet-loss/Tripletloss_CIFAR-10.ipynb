{
 "cells": [
  {
   "cell_type": "markdown",
   "metadata": {},
   "source": [
    "# Facenet study on CIFAR-10 dataset"
   ]
  },
  {
   "cell_type": "code",
   "execution_count": 1,
   "metadata": {},
   "outputs": [
    {
     "name": "stderr",
     "output_type": "stream",
     "text": [
      "/root/anaconda3/lib/python3.6/site-packages/h5py/__init__.py:36: FutureWarning: Conversion of the second argument of issubdtype from `float` to `np.floating` is deprecated. In future, it will be treated as `np.float64 == np.dtype(float).type`.\n",
      "  from ._conv import register_converters as _register_converters\n",
      "Using TensorFlow backend.\n"
     ]
    }
   ],
   "source": [
    "import keras\n",
    "from keras.layers import (Input, Dense, Flatten, Conv2D, LeakyReLU, Conv2DTranspose,\n",
    "                          BatchNormalization, GlobalAveragePooling2D, Lambda)\n",
    "from keras.models import Model\n",
    "from keras import backend as K\n",
    "import numpy as np"
   ]
  },
  {
   "cell_type": "code",
   "execution_count": 2,
   "metadata": {
    "scrolled": true
   },
   "outputs": [
    {
     "data": {
      "text/plain": [
       "'channels_last'"
      ]
     },
     "execution_count": 2,
     "metadata": {},
     "output_type": "execute_result"
    }
   ],
   "source": [
    "K.image_data_format()"
   ]
  },
  {
   "cell_type": "code",
   "execution_count": 3,
   "metadata": {},
   "outputs": [],
   "source": [
    "# input MNIST image dimensions as K.image_data_format() = 'channels_last'\n",
    "img_rows, img_cols, channels = 32, 32, 3 # as CIFAR-10\n",
    "input_shape = (img_rows, img_cols, channels)"
   ]
  },
  {
   "cell_type": "code",
   "execution_count": 4,
   "metadata": {},
   "outputs": [],
   "source": [
    "import tensorflow as tf\n",
    "\n",
    "# Copied from https://github.com/Skuldur/facenet-face-recognition/blob/9b9538252ad5dfe1e498720c4b1731612ca35e9c/facenet.py#L21\n",
    "def triplet_loss(y_pred, alpha = 0.2):\n",
    "    \"\"\"\n",
    "    Implementation of the triplet loss as defined by formula (3)\n",
    "    \n",
    "    Arguments:\n",
    "    y_true -- Not used.\n",
    "    y_pred -- python list containing three objects:\n",
    "            anchor -- the encodings for the anchor images, of shape (None, 32)\n",
    "            positive -- the encodings for the positive images, of shape (None, 32)\n",
    "            negative -- the encodings for the negative images, of shape (None, 32)\n",
    "    \n",
    "    Returns:\n",
    "    loss -- real number, value of the loss\n",
    "    \"\"\"\n",
    "\n",
    "    anchor, positive, negative = y_pred\n",
    "    pos_dist = tf.reduce_sum(tf.square(tf.subtract(anchor, positive)), axis=-1)\n",
    "    neg_dist = tf.reduce_sum(tf.square(tf.subtract(anchor, negative)), axis=-1)\n",
    "\n",
    "    basic_loss = tf.add(tf.subtract(pos_dist, neg_dist), alpha) # d(a, p) - d(a, n)\n",
    "    loss = tf.reduce_sum(tf.maximum(basic_loss, 0.0)) # sum(max(basic_loss, 0))\n",
    "\n",
    "    print(loss)\n",
    "    return loss"
   ]
  },
  {
   "cell_type": "code",
   "execution_count": 5,
   "metadata": {},
   "outputs": [],
   "source": [
    "# FaceNet paper used \"Local response normalization\",\n",
    "# but Keras doesn't support as it is not effective and not used often\n",
    "def get_shared_model(input_shape):\n",
    "    inception_v3 = keras.applications.inception_v3.InceptionV3(\n",
    "        include_top=False,\n",
    "        weights='imagenet'\n",
    "    ) # width and height must be no smaller than 75 px. input channels must be 3.\n",
    "    \n",
    "    \n",
    "    # Upsample input as its size is too small for inception v3\n",
    "    inputs = Input(shape=input_shape)\n",
    "    hid = BatchNormalization(epsilon=0.00001)(inputs)\n",
    "    hid = Conv2DTranspose(filters=3, kernel_size=[2,2], strides=[2,2], padding='valid')(hid)\n",
    "    hid = LeakyReLU(alpha=0.02)(hid)\n",
    "    hid = BatchNormalization(epsilon=0.00001)(hid)\n",
    "    hid = Conv2DTranspose(filters=3, kernel_size=[2,2], strides=[2,2], padding='valid')(hid)\n",
    "    hid = LeakyReLU(alpha=0.02)(hid)\n",
    "    hid = BatchNormalization(epsilon=0.00001)(hid)\n",
    "\n",
    "    hid = inception_v3(hid)\n",
    "\n",
    "    hid = GlobalAveragePooling2D()(hid)\n",
    "    hid = Dense(128)(hid)\n",
    "    L2_normalized = Lambda(lambda x: K.l2_normalize(x,axis=1))(hid)\n",
    "    \n",
    "    shared_model = Model(inputs=inputs, outputs=L2_normalized)\n",
    "\n",
    "    return shared_model"
   ]
  },
  {
   "cell_type": "code",
   "execution_count": 6,
   "metadata": {},
   "outputs": [],
   "source": [
    "# anc, pos, neg are supposed to be Input()\n",
    "def get_triplet_model(input_shape, triplet_loss):\n",
    "    shared_model = get_shared_model(input_shape)\n",
    "    anc_input = Input(input_shape)\n",
    "    pos_input = Input(input_shape)\n",
    "    neg_input = Input(input_shape)\n",
    "\n",
    "    anc_output = shared_model(anc_input)\n",
    "    pos_output = shared_model(pos_input)\n",
    "    neg_output = shared_model(neg_input)\n",
    "\n",
    "    outputs = anc_output, pos_output, neg_output\n",
    "    \n",
    "    triplet_model = Model(\n",
    "        inputs = [anc_input,  pos_input,  neg_input],\n",
    "        outputs= [anc_output, pos_output, neg_output]\n",
    "    )\n",
    "    triplet_model.add_loss(K.mean(triplet_loss(outputs)))\n",
    "\n",
    "    return shared_model, triplet_model"
   ]
  },
  {
   "cell_type": "code",
   "execution_count": 7,
   "metadata": {},
   "outputs": [
    {
     "name": "stdout",
     "output_type": "stream",
     "text": [
      "Tensor(\"Sum_2:0\", shape=(), dtype=float32)\n",
      "_________________________________________________________________\n",
      "Layer (type)                 Output Shape              Param #   \n",
      "=================================================================\n",
      "input_2 (InputLayer)         (None, 32, 32, 3)         0         \n",
      "_________________________________________________________________\n",
      "batch_normalization_95 (Batc (None, 32, 32, 3)         12        \n",
      "_________________________________________________________________\n",
      "conv2d_transpose_1 (Conv2DTr (None, 64, 64, 3)         39        \n",
      "_________________________________________________________________\n",
      "leaky_re_lu_1 (LeakyReLU)    (None, 64, 64, 3)         0         \n",
      "_________________________________________________________________\n",
      "batch_normalization_96 (Batc (None, 64, 64, 3)         12        \n",
      "_________________________________________________________________\n",
      "conv2d_transpose_2 (Conv2DTr (None, 128, 128, 3)       39        \n",
      "_________________________________________________________________\n",
      "leaky_re_lu_2 (LeakyReLU)    (None, 128, 128, 3)       0         \n",
      "_________________________________________________________________\n",
      "batch_normalization_97 (Batc (None, 128, 128, 3)       12        \n",
      "_________________________________________________________________\n",
      "inception_v3 (Model)         multiple                  21802784  \n",
      "_________________________________________________________________\n",
      "global_average_pooling2d_1 ( (None, 2048)              0         \n",
      "_________________________________________________________________\n",
      "dense_1 (Dense)              (None, 128)               262272    \n",
      "_________________________________________________________________\n",
      "lambda_1 (Lambda)            (None, 128)               0         \n",
      "=================================================================\n",
      "Total params: 22,065,170\n",
      "Trainable params: 22,030,720\n",
      "Non-trainable params: 34,450\n",
      "_________________________________________________________________\n"
     ]
    }
   ],
   "source": [
    "shared_model, triplet_model = get_triplet_model(input_shape, triplet_loss)\n",
    "shared_model.summary()"
   ]
  },
  {
   "cell_type": "code",
   "execution_count": 8,
   "metadata": {},
   "outputs": [
    {
     "name": "stdout",
     "output_type": "stream",
     "text": [
      "__________________________________________________________________________________________________\n",
      "Layer (type)                    Output Shape         Param #     Connected to                     \n",
      "==================================================================================================\n",
      "input_3 (InputLayer)            (None, 32, 32, 3)    0                                            \n",
      "__________________________________________________________________________________________________\n",
      "input_4 (InputLayer)            (None, 32, 32, 3)    0                                            \n",
      "__________________________________________________________________________________________________\n",
      "input_5 (InputLayer)            (None, 32, 32, 3)    0                                            \n",
      "__________________________________________________________________________________________________\n",
      "model_1 (Model)                 (None, 128)          22065170    input_3[0][0]                    \n",
      "                                                                 input_4[0][0]                    \n",
      "                                                                 input_5[0][0]                    \n",
      "==================================================================================================\n",
      "Total params: 22,065,170\n",
      "Trainable params: 22,030,720\n",
      "Non-trainable params: 34,450\n",
      "__________________________________________________________________________________________________\n"
     ]
    }
   ],
   "source": [
    "triplet_model.summary()"
   ]
  },
  {
   "cell_type": "code",
   "execution_count": 9,
   "metadata": {},
   "outputs": [],
   "source": [
    "# No accuracy is needed as an output doesn't have any correct vector\n",
    "# Triplet loss needed to be added on building a model as outputs shares objective function,\n",
    "# Keras doesn't support to handle it at model.compile\n",
    "triplet_model.compile(optimizer='adam', loss=None)"
   ]
  },
  {
   "cell_type": "code",
   "execution_count": 10,
   "metadata": {},
   "outputs": [],
   "source": [
    "# --------\n",
    "# batch generator\n",
    "# --------\n",
    "\n",
    "\n",
    "# this kaggle page helped me\n",
    "# https://www.kaggle.com/guichristmann/training-a-triplet-loss-model-on-mnist\n",
    "def reorganize_data(X, y):\n",
    "    assert X.shape[0] == y.shape[0]\n",
    "    \n",
    "    data_dict = {i: [] for i in range(10)}\n",
    "    for i in range(X.shape[0]):\n",
    "        data_dict[y[i][0]].append(X[i])\n",
    "        \n",
    "    return data_dict\n",
    "\n",
    "import random\n",
    "\n",
    "def generate_triplet_batch(data_dict, batch_size=32):\n",
    "    \"\"\"\n",
    "    Pick ten sets of (anchor, positive, negative) up randomly from each class\n",
    "    model.fit_generator expects generator to return (inputs, targets). On facenet,\n",
    "    inputs is (anc, pos, neg), and targets is None.\n",
    "    \"\"\"\n",
    "    anc_batch_temp = []\n",
    "    pos_batch_temp = []\n",
    "    neg_batch_temp = []\n",
    "    \n",
    "    classes = [i for i in range(10)]\n",
    "    \n",
    "    dummy = np.zeros((batch_size, 32))\n",
    "    \n",
    "    while True:\n",
    "        anc_y = random.choice(classes)\n",
    "        list_except_anc = [i for i in range(10) if i != anc_y]\n",
    "        neg_y = random.choice(list_except_anc)\n",
    "        \n",
    "        anc, pos = random.sample(data_dict[anc_y], 2)\n",
    "        neg = random.choice(data_dict[neg_y])\n",
    "        \n",
    "        anc_batch_temp.append(anc)\n",
    "        pos_batch_temp.append(pos)\n",
    "        neg_batch_temp.append(neg)\n",
    "                \n",
    "        if len(anc_batch_temp) == batch_size:\n",
    "            anc_batch, anc_batch_temp = anc_batch_temp, []\n",
    "            pos_batch, pos_batch_temp = pos_batch_temp, []\n",
    "            neg_batch, neg_batch_temp = neg_batch_temp, []  \n",
    "            \n",
    "            anc_batch = np.array(anc_batch)\n",
    "            pos_batch = np.array(pos_batch)\n",
    "            neg_batch = np.array(neg_batch)\n",
    "        \n",
    "            yield [anc_batch, pos_batch, neg_batch], None"
   ]
  },
  {
   "cell_type": "code",
   "execution_count": 11,
   "metadata": {},
   "outputs": [
    {
     "name": "stdout",
     "output_type": "stream",
     "text": [
      "X_train shape:  (50000, 32, 32, 3)\n",
      "y_train shape:  (50000, 1)\n"
     ]
    }
   ],
   "source": [
    "(X_train, y_train), (X_test, y_test) = keras.datasets.cifar10.load_data() # (#channel, 28, 28)\n",
    "print('X_train shape: ', X_train.shape)\n",
    "print('y_train shape: ', y_train.shape)\n",
    "\n",
    "# Prepare reorganized dict data\n",
    "train_data_dict = reorganize_data(X_train, y_train)\n",
    "test_data_dict = reorganize_data(X_test, y_test)"
   ]
  },
  {
   "cell_type": "code",
   "execution_count": 12,
   "metadata": {},
   "outputs": [],
   "source": [
    "# --------\n",
    "# Functions and class to plot training process\n",
    "# --------\n",
    "\n",
    "from sklearn.manifold import TSNE\n",
    "\n",
    "\n",
    "def reduce_dimention(L2_normed):\n",
    "    return TSNE(n_components=2, random_state=0).fit_transform(L2_normed)\n",
    "\n",
    "\n",
    "def scale_value(x, in_min, in_max, out_min, out_max):\n",
    "    \"\"\"\n",
    "    canvas has its own size (canvas_x_min, canvas_y_min), (canvas_y_min, canvas_y_max)\n",
    "    reduced corrdinates also has its own min and max. This function scales coordinates to fit canvas.\n",
    "    \"\"\"\n",
    "    return out_min + (x - in_min) * (out_max - out_min) / (in_max - in_min)\n",
    "\n",
    "\n",
    "def plot_images(images, xy, canvas_shape=(512,512), fill=0):    \n",
    "    h, w = images.shape[1:3]\n",
    "    if images.ndim == 4:\n",
    "        canvas_shape = (canvas_shape[0], canvas_shape[1], images.shape[3])\n",
    "    \n",
    "    min_xy = np.amin(xy, 0)\n",
    "    max_xy = np.amax(xy, 0)\n",
    "    \n",
    "    min_canvas_drawable = np.array((0, 0))\n",
    "    max_canvas_drawable = np.array((canvas_shape[0] - h, canvas_shape[1] - w))\n",
    "    # -h, -w so that max(reduced_x, reduced_ y) shodn't exceed the canvas\n",
    "    \n",
    "    canvas = np.full(canvas_shape, 255)\n",
    "    for image, pos in zip(images, xy):\n",
    "        x_off, y_off = scale_value(pos, min_xy, max_xy, min_canvas_drawable, max_canvas_drawable).astype(int)\n",
    "#         sub_canvas = canvas[y_off:y_off+h, x_off:x_off+w]\n",
    "#         sub_image = image[:h, :w]\n",
    "#         canvas[y_off:y_off+h, x_off:x_off+w] = blend(sub_canvas, sub_image)\n",
    "# Above code is good for MNIST as they get overlayed, but CIFAR-10 is all painted.\n",
    "        canvas[y_off:y_off+h, x_off:x_off+w] = image[:h, :w]\n",
    "\n",
    "    return canvas\n",
    "\n",
    "\n",
    "from io import BytesIO\n",
    "import numpy as np\n",
    "import PIL.Image\n",
    "import IPython.display\n",
    "import shutil\n",
    "import os\n",
    "\n",
    "\n",
    "def show_array(a, fmt='png', filename=None, retina=False, zoom=None):\n",
    "    if len(a.shape) == 1:\n",
    "        n = len(a)\n",
    "        side = int(math.sqrt(n))\n",
    "        if (side * side) == n:\n",
    "            a = a.reshape(side, side)\n",
    "        else:\n",
    "            raise ValueError('input is one-dimensional', a.shape)\n",
    "    a = np.uint8(np.clip(a, 0, 255))\n",
    "    image_data = BytesIO()\n",
    "    PIL.Image.fromarray(a).save(image_data, fmt)\n",
    "    if filename is None:\n",
    "        height, width = a.shape[:2]\n",
    "        if zoom is not None:\n",
    "            width *= zoom\n",
    "            height *= zoom\n",
    "        IPython.display.display(\n",
    "            IPython.display.Image(\n",
    "                data=image_data.getvalue(),\n",
    "                width=width,\n",
    "                height=height,\n",
    "                retina=retina\n",
    "             )\n",
    "        )\n",
    "    else:\n",
    "        with open(filename, 'wb') as f:\n",
    "            image_data.seek(0)\n",
    "            shutil.copyfileobj(image_data, f)\n",
    "\n",
    "\n",
    "class Plot(keras.callbacks.Callback):\n",
    "    \n",
    "    def __init__(self, embedding_model, model_input, plot_size=None, is_saved=True):\n",
    "        self.embedding_model = embedding_model\n",
    "        self.model_input = model_input[:plot_size] if plot_size else model_input\n",
    "        self.plot_size = plot_size\n",
    "        self.is_saved = is_saved\n",
    "        if self.is_saved and not os.path.exists('img'):\n",
    "            os.mkdir('img')\n",
    "    \n",
    "    def on_epoch_end(self, epoch, logs={}):\n",
    "        embedded_L2 = self.embedding_model.predict(self.model_input)\n",
    "        reduced = reduce_dimention(embedded_L2)\n",
    "        canvas_array = plot_images(self.model_input.squeeze(), reduced)\n",
    "        if self.is_saved:       \n",
    "            show_array(a=canvas_array, filename='img/{:0=3}-{:.3f}.png'.format(epoch + 1, logs['val_loss']))\n",
    "        else:\n",
    "            IPython.display.clear_output(wait=True)\n",
    "            show_array(a=canvas_array)\n",
    "            "
   ]
  },
  {
   "cell_type": "code",
   "execution_count": 13,
   "metadata": {},
   "outputs": [
    {
     "data": {
      "text/plain": [
       "['loss']"
      ]
     },
     "execution_count": 13,
     "metadata": {},
     "output_type": "execute_result"
    }
   ],
   "source": [
    "triplet_model.metrics_names"
   ]
  },
  {
   "cell_type": "code",
   "execution_count": 14,
   "metadata": {},
   "outputs": [],
   "source": [
    "EPOCHS = 200\n",
    "BATCH_SIZE = 32\n",
    "STEPS_PER_EPOCH = 10 # int(X_train.shape[0] // BATCH_SIZE)\n",
    "VALIDATION_STEPS = 10 # int(X_test.shape[0] // BATCH_SIZE)\n",
    "NUM_TO_PLOT = 1024"
   ]
  },
  {
   "cell_type": "code",
   "execution_count": 15,
   "metadata": {},
   "outputs": [
    {
     "name": "stdout",
     "output_type": "stream",
     "text": [
      "2018-10-26 09:01:38.343923\n"
     ]
    }
   ],
   "source": [
    "import datetime\n",
    "print(datetime.datetime.now())"
   ]
  },
  {
   "cell_type": "code",
   "execution_count": 16,
   "metadata": {
    "scrolled": true
   },
   "outputs": [
    {
     "name": "stdout",
     "output_type": "stream",
     "text": [
      "Epoch 1/200\n",
      "10/10 [==============================] - 28s 3s/step - loss: 7.3524 - val_loss: 6.4000\n",
      "Epoch 2/200\n",
      "10/10 [==============================] - 4s 418ms/step - loss: 6.2070 - val_loss: 6.4000\n",
      "Epoch 3/200\n",
      "10/10 [==============================] - 4s 420ms/step - loss: 6.1828 - val_loss: 6.4000\n",
      "Epoch 4/200\n",
      "10/10 [==============================] - 4s 440ms/step - loss: 5.9410 - val_loss: 6.4000\n",
      "Epoch 5/200\n",
      "10/10 [==============================] - 4s 433ms/step - loss: 5.4704 - val_loss: 6.4000\n",
      "Epoch 6/200\n",
      "10/10 [==============================] - 4s 429ms/step - loss: 4.9010 - val_loss: 6.4000\n",
      "Epoch 7/200\n",
      "10/10 [==============================] - 4s 420ms/step - loss: 5.1446 - val_loss: 6.4000\n",
      "Epoch 8/200\n",
      "10/10 [==============================] - 4s 411ms/step - loss: 5.4957 - val_loss: 6.4000\n",
      "Epoch 9/200\n",
      "10/10 [==============================] - 4s 409ms/step - loss: 4.8710 - val_loss: 6.4000\n",
      "Epoch 10/200\n",
      "10/10 [==============================] - 4s 417ms/step - loss: 5.0942 - val_loss: 6.4000\n",
      "Epoch 11/200\n",
      "10/10 [==============================] - 4s 409ms/step - loss: 4.6089 - val_loss: 6.4000\n",
      "Epoch 12/200\n",
      "10/10 [==============================] - 4s 409ms/step - loss: 4.7632 - val_loss: 0.0000e+00\n"
     ]
    },
    {
     "ename": "ValueError",
     "evalue": "Input contains NaN, infinity or a value too large for dtype('float32').",
     "output_type": "error",
     "traceback": [
      "\u001b[0;31m---------------------------------------------------------------------------\u001b[0m",
      "\u001b[0;31mValueError\u001b[0m                                Traceback (most recent call last)",
      "\u001b[0;32m<ipython-input-16-e7df9ab582ea>\u001b[0m in \u001b[0;36m<module>\u001b[0;34m()\u001b[0m\n\u001b[1;32m     14\u001b[0m     \u001b[0mvalidation_data\u001b[0m\u001b[0;34m=\u001b[0m\u001b[0mgenerate_triplet_batch\u001b[0m\u001b[0;34m(\u001b[0m\u001b[0mtest_data_dict\u001b[0m\u001b[0;34m,\u001b[0m \u001b[0mBATCH_SIZE\u001b[0m\u001b[0;34m)\u001b[0m\u001b[0;34m,\u001b[0m\u001b[0;34m\u001b[0m\u001b[0m\n\u001b[1;32m     15\u001b[0m     \u001b[0mvalidation_steps\u001b[0m\u001b[0;34m=\u001b[0m\u001b[0mVALIDATION_STEPS\u001b[0m\u001b[0;34m,\u001b[0m\u001b[0;34m\u001b[0m\u001b[0m\n\u001b[0;32m---> 16\u001b[0;31m     \u001b[0mcallbacks\u001b[0m\u001b[0;34m=\u001b[0m\u001b[0;34m[\u001b[0m\u001b[0mcallback_plt\u001b[0m\u001b[0;34m,\u001b[0m \u001b[0mcallback_tb\u001b[0m\u001b[0;34m,\u001b[0m \u001b[0mhistory\u001b[0m\u001b[0;34m]\u001b[0m\u001b[0;34m\u001b[0m\u001b[0m\n\u001b[0m\u001b[1;32m     17\u001b[0m )\n",
      "\u001b[0;32m~/anaconda3/lib/python3.6/site-packages/keras/legacy/interfaces.py\u001b[0m in \u001b[0;36mwrapper\u001b[0;34m(*args, **kwargs)\u001b[0m\n\u001b[1;32m     89\u001b[0m                 warnings.warn('Update your `' + object_name +\n\u001b[1;32m     90\u001b[0m                               '` call to the Keras 2 API: ' + signature, stacklevel=2)\n\u001b[0;32m---> 91\u001b[0;31m             \u001b[0;32mreturn\u001b[0m \u001b[0mfunc\u001b[0m\u001b[0;34m(\u001b[0m\u001b[0;34m*\u001b[0m\u001b[0margs\u001b[0m\u001b[0;34m,\u001b[0m \u001b[0;34m**\u001b[0m\u001b[0mkwargs\u001b[0m\u001b[0;34m)\u001b[0m\u001b[0;34m\u001b[0m\u001b[0m\n\u001b[0m\u001b[1;32m     92\u001b[0m         \u001b[0mwrapper\u001b[0m\u001b[0;34m.\u001b[0m\u001b[0m_original_function\u001b[0m \u001b[0;34m=\u001b[0m \u001b[0mfunc\u001b[0m\u001b[0;34m\u001b[0m\u001b[0m\n\u001b[1;32m     93\u001b[0m         \u001b[0;32mreturn\u001b[0m \u001b[0mwrapper\u001b[0m\u001b[0;34m\u001b[0m\u001b[0m\n",
      "\u001b[0;32m~/anaconda3/lib/python3.6/site-packages/keras/engine/training.py\u001b[0m in \u001b[0;36mfit_generator\u001b[0;34m(self, generator, steps_per_epoch, epochs, verbose, callbacks, validation_data, validation_steps, class_weight, max_queue_size, workers, use_multiprocessing, shuffle, initial_epoch)\u001b[0m\n\u001b[1;32m   1413\u001b[0m             \u001b[0muse_multiprocessing\u001b[0m\u001b[0;34m=\u001b[0m\u001b[0muse_multiprocessing\u001b[0m\u001b[0;34m,\u001b[0m\u001b[0;34m\u001b[0m\u001b[0m\n\u001b[1;32m   1414\u001b[0m             \u001b[0mshuffle\u001b[0m\u001b[0;34m=\u001b[0m\u001b[0mshuffle\u001b[0m\u001b[0;34m,\u001b[0m\u001b[0;34m\u001b[0m\u001b[0m\n\u001b[0;32m-> 1415\u001b[0;31m             initial_epoch=initial_epoch)\n\u001b[0m\u001b[1;32m   1416\u001b[0m \u001b[0;34m\u001b[0m\u001b[0m\n\u001b[1;32m   1417\u001b[0m     \u001b[0;34m@\u001b[0m\u001b[0minterfaces\u001b[0m\u001b[0;34m.\u001b[0m\u001b[0mlegacy_generator_methods_support\u001b[0m\u001b[0;34m\u001b[0m\u001b[0m\n",
      "\u001b[0;32m~/anaconda3/lib/python3.6/site-packages/keras/engine/training_generator.py\u001b[0m in \u001b[0;36mfit_generator\u001b[0;34m(model, generator, steps_per_epoch, epochs, verbose, callbacks, validation_data, validation_steps, class_weight, max_queue_size, workers, use_multiprocessing, shuffle, initial_epoch)\u001b[0m\n\u001b[1;32m    245\u001b[0m                     \u001b[0;32mbreak\u001b[0m\u001b[0;34m\u001b[0m\u001b[0m\n\u001b[1;32m    246\u001b[0m \u001b[0;34m\u001b[0m\u001b[0m\n\u001b[0;32m--> 247\u001b[0;31m             \u001b[0mcallbacks\u001b[0m\u001b[0;34m.\u001b[0m\u001b[0mon_epoch_end\u001b[0m\u001b[0;34m(\u001b[0m\u001b[0mepoch\u001b[0m\u001b[0;34m,\u001b[0m \u001b[0mepoch_logs\u001b[0m\u001b[0;34m)\u001b[0m\u001b[0;34m\u001b[0m\u001b[0m\n\u001b[0m\u001b[1;32m    248\u001b[0m             \u001b[0mepoch\u001b[0m \u001b[0;34m+=\u001b[0m \u001b[0;36m1\u001b[0m\u001b[0;34m\u001b[0m\u001b[0m\n\u001b[1;32m    249\u001b[0m             \u001b[0;32mif\u001b[0m \u001b[0mcallback_model\u001b[0m\u001b[0;34m.\u001b[0m\u001b[0mstop_training\u001b[0m\u001b[0;34m:\u001b[0m\u001b[0;34m\u001b[0m\u001b[0m\n",
      "\u001b[0;32m~/anaconda3/lib/python3.6/site-packages/keras/callbacks.py\u001b[0m in \u001b[0;36mon_epoch_end\u001b[0;34m(self, epoch, logs)\u001b[0m\n\u001b[1;32m     75\u001b[0m         \u001b[0mlogs\u001b[0m \u001b[0;34m=\u001b[0m \u001b[0mlogs\u001b[0m \u001b[0;32mor\u001b[0m \u001b[0;34m{\u001b[0m\u001b[0;34m}\u001b[0m\u001b[0;34m\u001b[0m\u001b[0m\n\u001b[1;32m     76\u001b[0m         \u001b[0;32mfor\u001b[0m \u001b[0mcallback\u001b[0m \u001b[0;32min\u001b[0m \u001b[0mself\u001b[0m\u001b[0;34m.\u001b[0m\u001b[0mcallbacks\u001b[0m\u001b[0;34m:\u001b[0m\u001b[0;34m\u001b[0m\u001b[0m\n\u001b[0;32m---> 77\u001b[0;31m             \u001b[0mcallback\u001b[0m\u001b[0;34m.\u001b[0m\u001b[0mon_epoch_end\u001b[0m\u001b[0;34m(\u001b[0m\u001b[0mepoch\u001b[0m\u001b[0;34m,\u001b[0m \u001b[0mlogs\u001b[0m\u001b[0;34m)\u001b[0m\u001b[0;34m\u001b[0m\u001b[0m\n\u001b[0m\u001b[1;32m     78\u001b[0m \u001b[0;34m\u001b[0m\u001b[0m\n\u001b[1;32m     79\u001b[0m     \u001b[0;32mdef\u001b[0m \u001b[0mon_batch_begin\u001b[0m\u001b[0;34m(\u001b[0m\u001b[0mself\u001b[0m\u001b[0;34m,\u001b[0m \u001b[0mbatch\u001b[0m\u001b[0;34m,\u001b[0m \u001b[0mlogs\u001b[0m\u001b[0;34m=\u001b[0m\u001b[0;32mNone\u001b[0m\u001b[0;34m)\u001b[0m\u001b[0;34m:\u001b[0m\u001b[0;34m\u001b[0m\u001b[0m\n",
      "\u001b[0;32m<ipython-input-12-49461f2d3c70>\u001b[0m in \u001b[0;36mon_epoch_end\u001b[0;34m(self, epoch, logs)\u001b[0m\n\u001b[1;32m     92\u001b[0m     \u001b[0;32mdef\u001b[0m \u001b[0mon_epoch_end\u001b[0m\u001b[0;34m(\u001b[0m\u001b[0mself\u001b[0m\u001b[0;34m,\u001b[0m \u001b[0mepoch\u001b[0m\u001b[0;34m,\u001b[0m \u001b[0mlogs\u001b[0m\u001b[0;34m=\u001b[0m\u001b[0;34m{\u001b[0m\u001b[0;34m}\u001b[0m\u001b[0;34m)\u001b[0m\u001b[0;34m:\u001b[0m\u001b[0;34m\u001b[0m\u001b[0m\n\u001b[1;32m     93\u001b[0m         \u001b[0membedded_L2\u001b[0m \u001b[0;34m=\u001b[0m \u001b[0mself\u001b[0m\u001b[0;34m.\u001b[0m\u001b[0membedding_model\u001b[0m\u001b[0;34m.\u001b[0m\u001b[0mpredict\u001b[0m\u001b[0;34m(\u001b[0m\u001b[0mself\u001b[0m\u001b[0;34m.\u001b[0m\u001b[0mmodel_input\u001b[0m\u001b[0;34m)\u001b[0m\u001b[0;34m\u001b[0m\u001b[0m\n\u001b[0;32m---> 94\u001b[0;31m         \u001b[0mreduced\u001b[0m \u001b[0;34m=\u001b[0m \u001b[0mreduce_dimention\u001b[0m\u001b[0;34m(\u001b[0m\u001b[0membedded_L2\u001b[0m\u001b[0;34m)\u001b[0m\u001b[0;34m\u001b[0m\u001b[0m\n\u001b[0m\u001b[1;32m     95\u001b[0m         \u001b[0mcanvas_array\u001b[0m \u001b[0;34m=\u001b[0m \u001b[0mplot_images\u001b[0m\u001b[0;34m(\u001b[0m\u001b[0mself\u001b[0m\u001b[0;34m.\u001b[0m\u001b[0mmodel_input\u001b[0m\u001b[0;34m.\u001b[0m\u001b[0msqueeze\u001b[0m\u001b[0;34m(\u001b[0m\u001b[0;34m)\u001b[0m\u001b[0;34m,\u001b[0m \u001b[0mreduced\u001b[0m\u001b[0;34m)\u001b[0m\u001b[0;34m\u001b[0m\u001b[0m\n\u001b[1;32m     96\u001b[0m         \u001b[0;32mif\u001b[0m \u001b[0mself\u001b[0m\u001b[0;34m.\u001b[0m\u001b[0mis_saved\u001b[0m\u001b[0;34m:\u001b[0m\u001b[0;34m\u001b[0m\u001b[0m\n",
      "\u001b[0;32m<ipython-input-12-49461f2d3c70>\u001b[0m in \u001b[0;36mreduce_dimention\u001b[0;34m(L2_normed)\u001b[0m\n\u001b[1;32m      7\u001b[0m \u001b[0;34m\u001b[0m\u001b[0m\n\u001b[1;32m      8\u001b[0m \u001b[0;32mdef\u001b[0m \u001b[0mreduce_dimention\u001b[0m\u001b[0;34m(\u001b[0m\u001b[0mL2_normed\u001b[0m\u001b[0;34m)\u001b[0m\u001b[0;34m:\u001b[0m\u001b[0;34m\u001b[0m\u001b[0m\n\u001b[0;32m----> 9\u001b[0;31m     \u001b[0;32mreturn\u001b[0m \u001b[0mTSNE\u001b[0m\u001b[0;34m(\u001b[0m\u001b[0mn_components\u001b[0m\u001b[0;34m=\u001b[0m\u001b[0;36m2\u001b[0m\u001b[0;34m,\u001b[0m \u001b[0mrandom_state\u001b[0m\u001b[0;34m=\u001b[0m\u001b[0;36m0\u001b[0m\u001b[0;34m)\u001b[0m\u001b[0;34m.\u001b[0m\u001b[0mfit_transform\u001b[0m\u001b[0;34m(\u001b[0m\u001b[0mL2_normed\u001b[0m\u001b[0;34m)\u001b[0m\u001b[0;34m\u001b[0m\u001b[0m\n\u001b[0m\u001b[1;32m     10\u001b[0m \u001b[0;34m\u001b[0m\u001b[0m\n\u001b[1;32m     11\u001b[0m \u001b[0;34m\u001b[0m\u001b[0m\n",
      "\u001b[0;32m~/anaconda3/lib/python3.6/site-packages/sklearn/manifold/t_sne.py\u001b[0m in \u001b[0;36mfit_transform\u001b[0;34m(self, X, y)\u001b[0m\n\u001b[1;32m    856\u001b[0m             \u001b[0mEmbedding\u001b[0m \u001b[0mof\u001b[0m \u001b[0mthe\u001b[0m \u001b[0mtraining\u001b[0m \u001b[0mdata\u001b[0m \u001b[0;32min\u001b[0m \u001b[0mlow\u001b[0m\u001b[0;34m-\u001b[0m\u001b[0mdimensional\u001b[0m \u001b[0mspace\u001b[0m\u001b[0;34m.\u001b[0m\u001b[0;34m\u001b[0m\u001b[0m\n\u001b[1;32m    857\u001b[0m         \"\"\"\n\u001b[0;32m--> 858\u001b[0;31m         \u001b[0membedding\u001b[0m \u001b[0;34m=\u001b[0m \u001b[0mself\u001b[0m\u001b[0;34m.\u001b[0m\u001b[0m_fit\u001b[0m\u001b[0;34m(\u001b[0m\u001b[0mX\u001b[0m\u001b[0;34m)\u001b[0m\u001b[0;34m\u001b[0m\u001b[0m\n\u001b[0m\u001b[1;32m    859\u001b[0m         \u001b[0mself\u001b[0m\u001b[0;34m.\u001b[0m\u001b[0membedding_\u001b[0m \u001b[0;34m=\u001b[0m \u001b[0membedding\u001b[0m\u001b[0;34m\u001b[0m\u001b[0m\n\u001b[1;32m    860\u001b[0m         \u001b[0;32mreturn\u001b[0m \u001b[0mself\u001b[0m\u001b[0;34m.\u001b[0m\u001b[0membedding_\u001b[0m\u001b[0;34m\u001b[0m\u001b[0m\n",
      "\u001b[0;32m~/anaconda3/lib/python3.6/site-packages/sklearn/manifold/t_sne.py\u001b[0m in \u001b[0;36m_fit\u001b[0;34m(self, X, skip_num_points)\u001b[0m\n\u001b[1;32m    658\u001b[0m         \u001b[0;32melse\u001b[0m\u001b[0;34m:\u001b[0m\u001b[0;34m\u001b[0m\u001b[0m\n\u001b[1;32m    659\u001b[0m             X = check_array(X, accept_sparse=['csr', 'csc', 'coo'],\n\u001b[0;32m--> 660\u001b[0;31m                             dtype=[np.float32, np.float64])\n\u001b[0m\u001b[1;32m    661\u001b[0m         \u001b[0;32mif\u001b[0m \u001b[0mself\u001b[0m\u001b[0;34m.\u001b[0m\u001b[0mmethod\u001b[0m \u001b[0;34m==\u001b[0m \u001b[0;34m'barnes_hut'\u001b[0m \u001b[0;32mand\u001b[0m \u001b[0mself\u001b[0m\u001b[0;34m.\u001b[0m\u001b[0mn_components\u001b[0m \u001b[0;34m>\u001b[0m \u001b[0;36m3\u001b[0m\u001b[0;34m:\u001b[0m\u001b[0;34m\u001b[0m\u001b[0m\n\u001b[1;32m    662\u001b[0m             raise ValueError(\"'n_components' should be inferior to 4 for the \"\n",
      "\u001b[0;32m~/anaconda3/lib/python3.6/site-packages/sklearn/utils/validation.py\u001b[0m in \u001b[0;36mcheck_array\u001b[0;34m(array, accept_sparse, dtype, order, copy, force_all_finite, ensure_2d, allow_nd, ensure_min_samples, ensure_min_features, warn_on_dtype, estimator)\u001b[0m\n\u001b[1;32m    451\u001b[0m                              % (array.ndim, estimator_name))\n\u001b[1;32m    452\u001b[0m         \u001b[0;32mif\u001b[0m \u001b[0mforce_all_finite\u001b[0m\u001b[0;34m:\u001b[0m\u001b[0;34m\u001b[0m\u001b[0m\n\u001b[0;32m--> 453\u001b[0;31m             \u001b[0m_assert_all_finite\u001b[0m\u001b[0;34m(\u001b[0m\u001b[0marray\u001b[0m\u001b[0;34m)\u001b[0m\u001b[0;34m\u001b[0m\u001b[0m\n\u001b[0m\u001b[1;32m    454\u001b[0m \u001b[0;34m\u001b[0m\u001b[0m\n\u001b[1;32m    455\u001b[0m     \u001b[0mshape_repr\u001b[0m \u001b[0;34m=\u001b[0m \u001b[0m_shape_repr\u001b[0m\u001b[0;34m(\u001b[0m\u001b[0marray\u001b[0m\u001b[0;34m.\u001b[0m\u001b[0mshape\u001b[0m\u001b[0;34m)\u001b[0m\u001b[0;34m\u001b[0m\u001b[0m\n",
      "\u001b[0;32m~/anaconda3/lib/python3.6/site-packages/sklearn/utils/validation.py\u001b[0m in \u001b[0;36m_assert_all_finite\u001b[0;34m(X)\u001b[0m\n\u001b[1;32m     42\u001b[0m             and not np.isfinite(X).all()):\n\u001b[1;32m     43\u001b[0m         raise ValueError(\"Input contains NaN, infinity\"\n\u001b[0;32m---> 44\u001b[0;31m                          \" or a value too large for %r.\" % X.dtype)\n\u001b[0m\u001b[1;32m     45\u001b[0m \u001b[0;34m\u001b[0m\u001b[0m\n\u001b[1;32m     46\u001b[0m \u001b[0;34m\u001b[0m\u001b[0m\n",
      "\u001b[0;31mValueError\u001b[0m: Input contains NaN, infinity or a value too large for dtype('float32')."
     ]
    }
   ],
   "source": [
    "callback_plt = Plot(shared_model, X_test, NUM_TO_PLOT)\n",
    "callback_tb = keras.callbacks.TensorBoard(log_dir='log', histogram_freq=0,  \n",
    "          write_graph=True, write_images=True)\n",
    "history = keras.callbacks.History()\n",
    "\n",
    "if not os.path.exists('log'):\n",
    "    os.mkdir('log')\n",
    "\n",
    "triplet_model.fit_generator(\n",
    "    generator=generate_triplet_batch(train_data_dict, BATCH_SIZE),\n",
    "    steps_per_epoch=STEPS_PER_EPOCH,\n",
    "    epochs=EPOCHS,\n",
    "    verbose=1,\n",
    "    validation_data=generate_triplet_batch(test_data_dict, BATCH_SIZE),\n",
    "    validation_steps=VALIDATION_STEPS,\n",
    "    callbacks=[callback_plt, callback_tb, history]\n",
    ")"
   ]
  },
  {
   "cell_type": "code",
   "execution_count": null,
   "metadata": {},
   "outputs": [],
   "source": [
    "print(datetime.datetime.now())"
   ]
  },
  {
   "cell_type": "code",
   "execution_count": null,
   "metadata": {},
   "outputs": [],
   "source": [
    "import matplotlib.pyplot as plt\n",
    "\n",
    "plt.plot(history.history['loss'], label='loss')\n",
    "plt.plot(history.history['val_loss'], label='val_loss')\n",
    "plt.legend()\n",
    "plt.xlabel('Epochs')\n",
    "plt.ylabel('a.u.')\n",
    "plt.title('Loss and val_loss vs epoch')\n",
    "plt.show()"
   ]
  }
 ],
 "metadata": {
  "kernelspec": {
   "display_name": "Python 3",
   "language": "python",
   "name": "python3"
  },
  "language_info": {
   "codemirror_mode": {
    "name": "ipython",
    "version": 3
   },
   "file_extension": ".py",
   "mimetype": "text/x-python",
   "name": "python",
   "nbconvert_exporter": "python",
   "pygments_lexer": "ipython3",
   "version": "3.6.5"
  }
 },
 "nbformat": 4,
 "nbformat_minor": 2
}
